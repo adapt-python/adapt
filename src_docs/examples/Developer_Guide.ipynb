{
 "cells": [
  {
   "cell_type": "markdown",
   "id": "1b7fbd96-5e2b-4037-8c64-8a0233961c3d",
   "metadata": {},
   "source": [
    "# Developer Guide"
   ]
  },
  {
   "cell_type": "markdown",
   "id": "dee1f867-0b34-406f-abab-6763c852fea3",
   "metadata": {},
   "source": [
    "This page is dedicated to developers who want to contribute to the ADAPT library.\n",
    "\n",
    "The guide is divided is three parts:\n",
    "\n",
    "- Opening a pull request in ADAPT\n",
    "- Implementing a new Domain Adaptation method\n",
    "- Contributing to the documentation"
   ]
  },
  {
   "cell_type": "markdown",
   "id": "c712c528-d878-4c97-a534-c82fd0057c47",
   "metadata": {},
   "source": [
    "## 1. Opening a pull request in ADAPT"
   ]
  },
  {
   "cell_type": "markdown",
   "id": "f0ba491b-9704-4752-a3ab-c6d45688337b",
   "metadata": {},
   "source": [
    "First go on GitHub at https://github.com/adapt-python/adapt and fork the repository:"
   ]
  },
  {
   "cell_type": "markdown",
   "id": "24fa5bec-009d-4b8e-a662-c115f66a7faa",
   "metadata": {},
   "source": [
    "<img src=\"../_static/images/fork.png\" alt=\"fork\">"
   ]
  },
  {
   "cell_type": "markdown",
   "id": "0ec68edf-75f3-427b-ae2e-8670aa6b4a02",
   "metadata": {},
   "source": [
    "On your labtop, open a command prompt and clone your fork with the following command line:\n",
    "\n",
    "`git clone https://github.com/<your GitHub name>/adapt.git`\n",
    "\n",
    "Or:\n",
    "\n",
    "`git clone git@github.com:<your GitHub name>/adapt.git`"
   ]
  },
  {
   "cell_type": "markdown",
   "id": "1b8255e9-ff84-4fc1-bd01-a258fbdc5c44",
   "metadata": {},
   "source": [
    "Make changes in the cloned repository on your labtop. When you have finished, commit your changes and push them to your GitHub fork with the following command lines:\n",
    "\n",
    "`git add .`\n",
    "\n",
    "`git commit -m \"My changes\"`\n",
    "\n",
    "`git push`"
   ]
  },
  {
   "cell_type": "markdown",
   "id": "fbd1f181-5b73-41a3-9b95-e7521117a6fa",
   "metadata": {},
   "source": [
    "Finally,open a pull request on the main repository by selecting \"Contribute\" and \"Open pull request\" on your GitHub fork:"
   ]
  },
  {
   "cell_type": "markdown",
   "id": "e5c17b6f-58b7-4a00-9d59-30128ffdc6eb",
   "metadata": {},
   "source": [
    "<img src=\"../_static/images/contribute.png\" alt=\"contribute\">"
   ]
  },
  {
   "cell_type": "markdown",
   "id": "225a6c10-520d-49d2-b64b-c0e5bdae8311",
   "metadata": {},
   "source": [
    "You can give a title to your pull request and a description of your changes. Your pull request will be reviewed and merged to the main repository if your code complies with the ADAPT library."
   ]
  },
  {
   "cell_type": "markdown",
   "id": "4d02186a-4632-4256-9245-f98c89952633",
   "metadata": {},
   "source": [
    "## 2. Implementing a new Domain Adaptation method"
   ]
  },
  {
   "cell_type": "markdown",
   "id": "a2e21e58-8cbb-4371-b5ac-7421c267cb55",
   "metadata": {},
   "source": [
    "This part explains how to implement a novel DA method in the ADAPT style. Your implementation can be done in the cloned repository on your labtop (see previous part)."
   ]
  },
  {
   "cell_type": "markdown",
   "id": "1e47f1be-784d-40a7-87e6-c667a193d063",
   "metadata": {},
   "source": [
    "### 2.1 Implementing a classic DA method"
   ]
  },
  {
   "cell_type": "markdown",
   "id": "6db2da95-e0a5-43f4-8388-000397d3dcdd",
   "metadata": {},
   "source": [
    "If your proposed approach does not use deep learning, you should subclass the `BaseAdaptEstimator` object."
   ]
  },
  {
   "cell_type": "markdown",
   "id": "350dd3c0-a1c9-47b4-8317-11f39a82c86f",
   "metadata": {},
   "source": [
    "Let's say you want to develop a simple feature-based approach which learns the PCA of the source domain and applies it to the target domain. The only thing you have to do is to implement the `__init__`, `transform` and `fit_transform` methods."
   ]
  },
  {
   "cell_type": "code",
   "execution_count": 22,
   "id": "175bbe1d-afe6-4cb2-b721-84554dd8fe8d",
   "metadata": {},
   "outputs": [],
   "source": [
    "from adapt.base import BaseAdaptEstimator\n",
    "from sklearn.decomposition import PCA\n",
    "\n",
    "\n",
    "class SrcPCA(BaseAdaptEstimator):\n",
    "    # Write a description of the algorithm, parameters and attributes.\n",
    "    \"\"\"\n",
    "    SrcPCA : Source PCA\n",
    "    \n",
    "    SrcPCA learns the PCA on the source domain and applies it on the\n",
    "    target domain\n",
    "    \n",
    "    Parameters\n",
    "    ----------\n",
    "    estimator : sklearn estimator or Tensorflow Model\n",
    "        The task estimator.\n",
    "        \n",
    "    Xt : array\n",
    "        The target input data.\n",
    "        \n",
    "    n_components : int (default=2)\n",
    "        Number of principal components\n",
    "        \n",
    "    Attributes\n",
    "    ----------\n",
    "    estimator_ : sklearn estimator or Tensorflow Model\n",
    "        The fitted estimator\n",
    "    \"\"\"\n",
    "    \n",
    "    \n",
    "    def __init__(self,\n",
    "                 estimator=None,\n",
    "                 Xt=None,\n",
    "                 n_components=2):\n",
    "        \n",
    "        super().__init__(\n",
    "            estimator=estimator,\n",
    "            Xt=Xt\n",
    "        )\n",
    "        self.n_components = n_components\n",
    "        \n",
    "    \n",
    "    def fit_transform(self, Xs, Xt, **kwargs):\n",
    "        \"\"\"\n",
    "        Fit embeddings.\n",
    "        \n",
    "        Parameters\n",
    "        ----------\n",
    "        Xs : array\n",
    "            Input source data.\n",
    "            \n",
    "        Xt : array\n",
    "            Input target data.\n",
    "                        \n",
    "        kwargs : key, value argument\n",
    "            Not used, present here for adapt consistency.\n",
    "            \n",
    "        Returns\n",
    "        -------\n",
    "        Xs_emb : embedded source data\n",
    "        \"\"\"\n",
    "        \n",
    "        self.pca_ = PCA(self.n_components)\n",
    "        Xs_emb = self.pca_.fit_transform(Xs)\n",
    "        \n",
    "        return Xs_emb\n",
    "    \n",
    "    \n",
    "    def transform(self, X, **kwargs):\n",
    "        \"\"\"\n",
    "        Return aligned features for X.\n",
    "        \n",
    "        Parameters\n",
    "        ----------\n",
    "        X : array\n",
    "            Input data.\n",
    "            \n",
    "        Returns\n",
    "        -------\n",
    "        X_emb : array\n",
    "            Embeddings of X.\n",
    "        \"\"\"\n",
    "        \n",
    "        return self.pca_.transform(X)"
   ]
  },
  {
   "cell_type": "markdown",
   "id": "b986211a-413b-4c26-af91-44cb6e099ff8",
   "metadata": {},
   "source": [
    "You can now test your method on a simple case. For example you can use the `make_classification_da` function from [adapt.utils](https://adapt-python.github.io/adapt/contents.html#adapt-utils)"
   ]
  },
  {
   "cell_type": "code",
   "execution_count": 42,
   "id": "3d4f5136-3ff5-4528-8b60-d9b84bd6eff7",
   "metadata": {},
   "outputs": [
    {
     "data": {
      "image/png": "[encoded data removed]",
      "text/plain": [
       "<Figure size 432x288 with 1 Axes>"
      ]
     },
     "metadata": {
      "needs_background": "light"
     },
     "output_type": "display_data"
    }
   ],
   "source": [
    "from adapt.utils import make_classification_da\n",
    "import matplotlib.pyplot as plt\n",
    "\n",
    "Xs, ys, Xt, yt = make_classification_da()\n",
    "plt.plot(Xs[ys==1, 0], Xs[ys==1, 1], \"o\", c=\"C0\")\n",
    "plt.plot(Xs[ys==0, 0], Xs[ys==0, 1], \"*\", c=\"C0\")\n",
    "plt.plot(Xt[yt==1, 0], Xt[yt==1, 1], \"o\", c=\"C1\")\n",
    "plt.plot(Xt[yt==0, 0], Xt[yt==0, 1], \"*\", c=\"C1\")\n",
    "plt.show()"
   ]
  },
  {
   "cell_type": "markdown",
   "id": "2ea04e70-a3e1-4b9a-838f-cb14aafb2b88",
   "metadata": {},
   "source": [
    "Take one estimator from sklearn and test your novel DA algorithm. Note that the `fit` and `score` methods will call your implemented `fit_transform` and `transform` methods."
   ]
  },
  {
   "cell_type": "code",
   "execution_count": 41,
   "id": "7b9e115d-cf29-4731-93bd-0c2b2ef421a8",
   "metadata": {
    "tags": []
   },
   "outputs": [
    {
     "name": "stdout",
     "output_type": "stream",
     "text": [
      "Fit transform...\n",
      "Fit Estimator...\n",
      "Score: 0.930\n"
     ]
    }
   ],
   "source": [
    "from sklearn.linear_model import LogisticRegression\n",
    "\n",
    "model = SrcPCA(LogisticRegression(penalty=\"none\"), Xt=Xt, n_components=1)\n",
    "model.fit(Xs, ys)\n",
    "print(\"Score: %.3f\"%model.score(Xt, yt))"
   ]
  },
  {
   "cell_type": "markdown",
   "id": "fad33304-cf5f-4f86-8681-d68e3cb17f6a",
   "metadata": {},
   "source": [
    "Now, add your source code for `SrcPCA` to a file named `_srcpca.py` that you place in the adapt/feature_based folder. Modify the `__init__.py` file in the folder to add your method in the `__all__` list."
   ]
  },
  {
   "cell_type": "markdown",
   "id": "3e6db692-48ac-4658-ae4e-5f5e34b39846",
   "metadata": {},
   "source": [
    "Finally, you have to create a test file to perform some unit tests on your method. For this, create a file named `test_scrpca.py` in the tests folder. In this file, you can write the following code for example:"
   ]
  },
  {
   "cell_type": "code",
   "execution_count": null,
   "id": "4fe8f72d-db94-4daa-ae5f-dc79cd52a047",
   "metadata": {},
   "outputs": [],
   "source": [
    "from adapt.feature_based import SrcPCA\n",
    "from adapt.utils import make_classification_da\n",
    "from sklearn.linear_model import LogisticRegression\n",
    "\n",
    "def test_srcpca():\n",
    "    Xs, ys, Xt, yt = make_classification_da()\n",
    "    model = SrcPCA(LogisticRegression(penalty=\"none\"), Xt=Xt, n_components=1)\n",
    "    model.fit(Xs, ys)\n",
    "    score = model.score(Xt, yt)"
   ]
  },
  {
   "cell_type": "markdown",
   "id": "4b5a65fd-6e2f-4c9e-877d-4d0f2e17d124",
   "metadata": {},
   "source": [
    "If you want to be sure that your tests are working, you can install the `pytest` package and run the tests:\n",
    "\n",
    "`pip install pytest pytest-cov`\n",
    "\n",
    "In the adapt folder\n",
    "\n",
    "`pytest tests/test_srcpca.py`"
   ]
  },
  {
   "cell_type": "markdown",
   "id": "80f76de5-89ff-400f-997e-475976bae507",
   "metadata": {},
   "source": [
    "### 2.2 Implementing a deep DA method"
   ]
  },
  {
   "cell_type": "markdown",
   "id": "43ad67ac-f8a4-4f10-bd0f-7fdc78da0562",
   "metadata": {},
   "source": [
    "If your proposed approach is deep learning specific, you should subclass the `BaseAdaptDeep` object."
   ]
  },
  {
   "cell_type": "markdown",
   "id": "ce81bd14-1ad7-4397-ae1c-1b21c2d19ba1",
   "metadata": {},
   "source": [
    "Let's say you want to develop a feature-based approach which learns a deep representation where the source and target domains are both centered with variance close to one. The only think you have to do is to implement the `__init__` and `train_step` methods."
   ]
  },
  {
   "cell_type": "code",
   "execution_count": 99,
   "id": "9d1cfd16-6b5c-4769-926b-7cb9f02dd2f7",
   "metadata": {},
   "outputs": [],
   "source": [
    "import tensorflow as tf\n",
    "from adapt.base import BaseAdaptDeep\n",
    "\n",
    "\n",
    "class CenterDomains(BaseAdaptDeep):\n",
    "    # Write a description of the algorithm, parameters and attributes.\n",
    "    \"\"\"\n",
    "    CenterDomains : Centering domains\n",
    "    \n",
    "    CenterDomains learns a deep representation where the source and target domains\n",
    "    are both centered with variance close to one.\n",
    "    \n",
    "    Parameters\n",
    "    ----------\n",
    "    encoder : tensorflow Model (default=None)\n",
    "        Encoder netwok.\n",
    "        \n",
    "    task : tensorflow Model (default=None)\n",
    "        Task netwok.\n",
    "        \n",
    "    Xt : array\n",
    "        Target input data.\n",
    "        \n",
    "    lambda_ : float (default=1.)\n",
    "        Trade-off between task and domain closeness.\n",
    "        \n",
    "    Attributes\n",
    "    ----------\n",
    "    encoder_ : tensorflow Model\n",
    "        Fitted encoder network.\n",
    "        \n",
    "    task_ : tensorflow Model\n",
    "        Fitted task network.\n",
    "    \"\"\"\n",
    "    \n",
    "    \n",
    "    def __init__(self,\n",
    "                 encoder=None,\n",
    "                 task=None,\n",
    "                 lambda_=1.,\n",
    "                 Xt=None):\n",
    "        \n",
    "        super().__init__(\n",
    "            encoder=encoder,\n",
    "            task=task,\n",
    "            Xt=Xt\n",
    "        )\n",
    "        self.lambda_ = lambda_\n",
    "        \n",
    "    \n",
    "    def train_step(self, data):\n",
    "        # Unpack the data.\n",
    "        Xs, Xt, ys, yt = self._unpack_data(data)\n",
    "       \n",
    "        # loss\n",
    "        with tf.GradientTape() as task_tape, tf.GradientTape() as enc_tape:\n",
    "            # Forward pass\n",
    "            Xs_enc = self.encoder_(Xs, training=True)\n",
    "            ys_pred = self.task_(Xs_enc, training=True)\n",
    "            \n",
    "            Xt_enc = self.encoder_(Xt, training=True)\n",
    "            \n",
    "            # Reshape\n",
    "            ys_pred = tf.reshape(ys_pred, tf.shape(ys))\n",
    "            \n",
    "            # Compute the loss value\n",
    "            task_loss = self.task_loss_(ys, ys_pred)\n",
    "            \n",
    "            mean_src = tf.reduce_mean(Xs_enc, axis=0)\n",
    "            var_src = tf.math.reduce_variance(Xs_enc, axis=0)\n",
    "            mean_tgt = tf.reduce_mean(Xt_enc, axis=0)\n",
    "            var_tgt = tf.math.reduce_variance(Xt_enc, axis=0)\n",
    "            \n",
    "            enc_loss = tf.square(mean_src) + tf.square(mean_tgt)\n",
    "            enc_loss += tf.square(1-var_src) + tf.square(1-var_tgt)\n",
    "            \n",
    "            task_loss = tf.reduce_mean(task_loss)\n",
    "            enc_loss = tf.reduce_mean(enc_loss)\n",
    "            \n",
    "            enc_loss = task_loss + self.lambda_ * enc_loss\n",
    "            \n",
    "            task_loss += sum(self.task_.losses)\n",
    "            enc_loss += sum(self.encoder_.losses)\n",
    "            \n",
    "            \n",
    "        # Compute gradients\n",
    "        trainable_vars_task = self.task_.trainable_variables\n",
    "        trainable_vars_enc = self.encoder_.trainable_variables\n",
    "        \n",
    "        gradients_task = task_tape.gradient(task_loss, trainable_vars_task)\n",
    "        gradients_enc = enc_tape.gradient(enc_loss, trainable_vars_enc)\n",
    "        \n",
    "        # Update weights\n",
    "        self.optimizer.apply_gradients(zip(gradients_task, trainable_vars_task))\n",
    "        self.optimizer_enc.apply_gradients(zip(gradients_enc, trainable_vars_enc))\n",
    "        \n",
    "        # Update metrics\n",
    "        self.compiled_metrics.update_state(ys, ys_pred)\n",
    "        self.compiled_loss(ys, ys_pred)\n",
    "        # Return a dict mapping metric names to current value\n",
    "        logs = {m.name: m.result() for m in self.metrics}\n",
    "        return logs"
   ]
  },
  {
   "cell_type": "markdown",
   "id": "8259bf99-025d-4d17-b048-7305af322c49",
   "metadata": {},
   "source": [
    "You can now test your method on a simple case. For example you can use the `make_classification_da` function from [adapt.utils](https://adapt-python.github.io/adapt/contents.html#adapt-utils)"
   ]
  },
  {
   "cell_type": "code",
   "execution_count": 100,
   "id": "7483dbaf-350d-49b6-bf37-2a11311859f0",
   "metadata": {},
   "outputs": [
    {
     "data": {
      "image/png": "[encoded data removed]",
      "text/plain": [
       "<Figure size 432x288 with 1 Axes>"
      ]
     },
     "metadata": {
      "needs_background": "light"
     },
     "output_type": "display_data"
    }
   ],
   "source": [
    "from adapt.utils import make_classification_da\n",
    "import matplotlib.pyplot as plt\n",
    "\n",
    "Xs, ys, Xt, yt = make_classification_da()\n",
    "plt.plot(Xs[ys==1, 0], Xs[ys==1, 1], \"o\", c=\"C0\")\n",
    "plt.plot(Xs[ys==0, 0], Xs[ys==0, 1], \"*\", c=\"C0\")\n",
    "plt.plot(Xt[yt==1, 0], Xt[yt==1, 1], \"o\", c=\"C1\")\n",
    "plt.plot(Xt[yt==0, 0], Xt[yt==0, 1], \"*\", c=\"C1\")\n",
    "plt.show()"
   ]
  },
  {
   "cell_type": "markdown",
   "id": "252d12f2-9938-4057-ba35-51ccfbbbe3fd",
   "metadata": {},
   "source": [
    "Create simple neural networks and test your novel deep DA algorithm."
   ]
  },
  {
   "cell_type": "code",
   "execution_count": 102,
   "id": "7e1e83a9-cf51-48f3-b42a-ea0008defb6b",
   "metadata": {
    "tags": []
   },
   "outputs": [
    {
     "name": "stdout",
     "output_type": "stream",
     "text": [
      "1/1 [==============================] - 0s 118ms/step - loss: 0.2461\n",
      "Score: 0.246\n"
     ]
    }
   ],
   "source": [
    "encoder = tf.keras.Sequential()\n",
    "encoder.add(tf.keras.layers.Dense(100, activation=\"relu\"))\n",
    "encoder.add(tf.keras.layers.Dense(2))\n",
    "\n",
    "task = tf.keras.Sequential()\n",
    "task.add(tf.keras.layers.Dense(1, activation=\"sigmoid\"))\n",
    "\n",
    "model = CenterDomains(encoder=encoder,\n",
    "                      task=task,\n",
    "                      Xt=Xt,\n",
    "                      lambda_=1.)\n",
    "model.compile(loss=\"binary_crossentropy\", optimizer=\"adam\")\n",
    "model.fit(Xs, ys, epochs=100, verbose=0)\n",
    "print(\"Score: %.3f\"%model.score(Xt, yt))"
   ]
  },
  {
   "cell_type": "markdown",
   "id": "30f1598e-d31e-4a4c-b33b-e4d8493cbeaa",
   "metadata": {},
   "source": [
    "You can also check that your encoded space behave as expected"
   ]
  },
  {
   "cell_type": "code",
   "execution_count": 106,
   "id": "2f4a3db4-f65e-4d6a-8d49-ce9d3d81084f",
   "metadata": {},
   "outputs": [
    {
     "name": "stdout",
     "output_type": "stream",
     "text": [
      "[-0.02707285  0.00268192] [-0.03096193 -0.06729582]\n",
      "[0.9326022 0.9280451] [1.08319   1.0991981]\n"
     ]
    }
   ],
   "source": [
    "Xs_enc = model.transform(Xs)\n",
    "Xt_enc = model.transform(Xt)\n",
    "\n",
    "print(Xs_enc.mean(0), Xt_enc.mean(0))\n",
    "print(Xs_enc.var(0), Xt_enc.var(0))"
   ]
  },
  {
   "cell_type": "markdown",
   "id": "75b42d02-2ac4-4883-b8e9-b016c30364fe",
   "metadata": {},
   "source": [
    "Finally, follow the instructions in 2.1 to add your implementation in the adapt folder and make the tests."
   ]
  },
  {
   "cell_type": "markdown",
   "id": "8cb7b525-12db-4e2d-8d34-2ab09200b82b",
   "metadata": {},
   "source": [
    "## 3. Contributing to the documentation"
   ]
  },
  {
   "cell_type": "markdown",
   "id": "b7d0bf4a-fb72-4c03-bfa3-725528bed3b1",
   "metadata": {},
   "source": [
    "If you want to add examples of ADAPT usage to the documentation, this can be done by modifying the `src_docs` folder."
   ]
  },
  {
   "cell_type": "markdown",
   "id": "f0440cc9-255a-408b-89a6-c734c5e2a738",
   "metadata": {},
   "source": [
    "First, install all the packages you need for documentation:\n",
    "\n",
    "`sudo apt install pandoc` or `conda install pandoc`\n",
    "\n",
    "And,\n",
    "\n",
    "`pip install jinja2==3.0.3 sphinx==4.4.0 numpydoc==1.2 nbsphinx==0.8.8 sphinx_gallery==0.10.1 sphinx_rtd_theme==1.0.0 ipython==8.0.1`"
   ]
  },
  {
   "cell_type": "markdown",
   "id": "3354f83d-e0c8-4d03-8300-df722b9e5120",
   "metadata": {},
   "source": [
    "Then, make your example in a jupyter notebook and add it to the `src_docs/examples` folder"
   ]
  },
  {
   "cell_type": "markdown",
   "id": "11d75957-7a76-4365-bbde-2d28b035ea5a",
   "metadata": {},
   "source": [
    "To make your example appear in the content page, add the path to your example in either `src_docs/synthetic_examples.rst` or `src_docs/real_examples.rst` file depending on which kind of example you have made."
   ]
  },
  {
   "cell_type": "markdown",
   "id": "6a0ab519-3a3d-4d80-b9ed-a2d9ced6d390",
   "metadata": {},
   "source": [
    "You can check the rendering of your example by compiling the documentation with the following command line (executed in the adapt folder):\n",
    "\n",
    "`make html`"
   ]
  },
  {
   "cell_type": "markdown",
   "id": "6f9a96f1-c655-4b80-a243-a68696f2af32",
   "metadata": {},
   "source": [
    "You can now open the folder `docs/html/` you will find a file named `contents.html`. When you open this file you will find the path to your example in the examples sections."
   ]
  }
 ],
 "metadata": {
  "kernelspec": {
   "display_name": "statmath38",
   "language": "python",
   "name": "statmath38"
  },
  "language_info": {
   "codemirror_mode": {
    "name": "ipython",
    "version": 3
   },
   "file_extension": ".py",
   "mimetype": "text/x-python",
   "name": "python",
   "nbconvert_exporter": "python",
   "pygments_lexer": "ipython3",
   "version": "3.8.12"
  }
 },
 "nbformat": 4,
 "nbformat_minor": 5
}
